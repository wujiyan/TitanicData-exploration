{
 "cells": [
  {
   "cell_type": "code",
   "execution_count": 75,
   "metadata": {
    "collapsed": false,
    "scrolled": true
   },
   "outputs": [
    {
     "name": "stdout",
     "output_type": "stream",
     "text": [
      "Populating the interactive namespace from numpy and matplotlib\n"
     ]
    },
    {
     "data": {
      "text/html": [
       "<div>\n",
       "<table border=\"1\" class=\"dataframe\">\n",
       "  <thead>\n",
       "    <tr style=\"text-align: right;\">\n",
       "      <th></th>\n",
       "      <th>PassengerId</th>\n",
       "      <th>Survived</th>\n",
       "      <th>Pclass</th>\n",
       "      <th>Name</th>\n",
       "      <th>Sex</th>\n",
       "      <th>Age</th>\n",
       "      <th>SibSp</th>\n",
       "      <th>Parch</th>\n",
       "      <th>Ticket</th>\n",
       "      <th>Fare</th>\n",
       "      <th>Cabin</th>\n",
       "      <th>Embarked</th>\n",
       "    </tr>\n",
       "  </thead>\n",
       "  <tbody>\n",
       "    <tr>\n",
       "      <th>0</th>\n",
       "      <td>1</td>\n",
       "      <td>0</td>\n",
       "      <td>3</td>\n",
       "      <td>Braund, Mr. Owen Harris</td>\n",
       "      <td>male</td>\n",
       "      <td>22.0</td>\n",
       "      <td>1</td>\n",
       "      <td>0</td>\n",
       "      <td>A/5 21171</td>\n",
       "      <td>7.2500</td>\n",
       "      <td>NaN</td>\n",
       "      <td>S</td>\n",
       "    </tr>\n",
       "    <tr>\n",
       "      <th>1</th>\n",
       "      <td>2</td>\n",
       "      <td>1</td>\n",
       "      <td>1</td>\n",
       "      <td>Cumings, Mrs. John Bradley (Florence Briggs Th...</td>\n",
       "      <td>female</td>\n",
       "      <td>38.0</td>\n",
       "      <td>1</td>\n",
       "      <td>0</td>\n",
       "      <td>PC 17599</td>\n",
       "      <td>71.2833</td>\n",
       "      <td>C85</td>\n",
       "      <td>C</td>\n",
       "    </tr>\n",
       "    <tr>\n",
       "      <th>2</th>\n",
       "      <td>3</td>\n",
       "      <td>1</td>\n",
       "      <td>3</td>\n",
       "      <td>Heikkinen, Miss. Laina</td>\n",
       "      <td>female</td>\n",
       "      <td>26.0</td>\n",
       "      <td>0</td>\n",
       "      <td>0</td>\n",
       "      <td>STON/O2. 3101282</td>\n",
       "      <td>7.9250</td>\n",
       "      <td>NaN</td>\n",
       "      <td>S</td>\n",
       "    </tr>\n",
       "    <tr>\n",
       "      <th>3</th>\n",
       "      <td>4</td>\n",
       "      <td>1</td>\n",
       "      <td>1</td>\n",
       "      <td>Futrelle, Mrs. Jacques Heath (Lily May Peel)</td>\n",
       "      <td>female</td>\n",
       "      <td>35.0</td>\n",
       "      <td>1</td>\n",
       "      <td>0</td>\n",
       "      <td>113803</td>\n",
       "      <td>53.1000</td>\n",
       "      <td>C123</td>\n",
       "      <td>S</td>\n",
       "    </tr>\n",
       "    <tr>\n",
       "      <th>4</th>\n",
       "      <td>5</td>\n",
       "      <td>0</td>\n",
       "      <td>3</td>\n",
       "      <td>Allen, Mr. William Henry</td>\n",
       "      <td>male</td>\n",
       "      <td>35.0</td>\n",
       "      <td>0</td>\n",
       "      <td>0</td>\n",
       "      <td>373450</td>\n",
       "      <td>8.0500</td>\n",
       "      <td>NaN</td>\n",
       "      <td>S</td>\n",
       "    </tr>\n",
       "  </tbody>\n",
       "</table>\n",
       "</div>"
      ],
      "text/plain": [
       "   PassengerId  Survived  Pclass  \\\n",
       "0            1         0       3   \n",
       "1            2         1       1   \n",
       "2            3         1       3   \n",
       "3            4         1       1   \n",
       "4            5         0       3   \n",
       "\n",
       "                                                Name     Sex   Age  SibSp  \\\n",
       "0                            Braund, Mr. Owen Harris    male  22.0      1   \n",
       "1  Cumings, Mrs. John Bradley (Florence Briggs Th...  female  38.0      1   \n",
       "2                             Heikkinen, Miss. Laina  female  26.0      0   \n",
       "3       Futrelle, Mrs. Jacques Heath (Lily May Peel)  female  35.0      1   \n",
       "4                           Allen, Mr. William Henry    male  35.0      0   \n",
       "\n",
       "   Parch            Ticket     Fare Cabin Embarked  \n",
       "0      0         A/5 21171   7.2500   NaN        S  \n",
       "1      0          PC 17599  71.2833   C85        C  \n",
       "2      0  STON/O2. 3101282   7.9250   NaN        S  \n",
       "3      0            113803  53.1000  C123        S  \n",
       "4      0            373450   8.0500   NaN        S  "
      ]
     },
     "execution_count": 75,
     "metadata": {},
     "output_type": "execute_result"
    }
   ],
   "source": [
    "#import libraries\n",
    "import numpy as np\n",
    "import pandas as pd\n",
    "import matplotlib as mt\n",
    "import seaborn as sb\n",
    "import matplotlib.pyplot as plt\n",
    "from scipy.stats import ttest_ind\n",
    "%pylab inline\n",
    "\n",
    "#load raw data and have a glance of the head part\n",
    "titanic_raw_data = pd.read_csv(r'C:\\data analyst\\pj2\\project\\titanic_data.csv')\n",
    "titanic_raw_data.head()"
   ]
  },
  {
   "cell_type": "code",
   "execution_count": 76,
   "metadata": {
    "collapsed": false
   },
   "outputs": [
    {
     "data": {
      "text/html": [
       "<div>\n",
       "<table border=\"1\" class=\"dataframe\">\n",
       "  <thead>\n",
       "    <tr style=\"text-align: right;\">\n",
       "      <th></th>\n",
       "      <th>PassengerId</th>\n",
       "      <th>Survived</th>\n",
       "      <th>Pclass</th>\n",
       "      <th>Age</th>\n",
       "      <th>SibSp</th>\n",
       "      <th>Parch</th>\n",
       "      <th>Fare</th>\n",
       "      <th>Embarked</th>\n",
       "      <th>Gender</th>\n",
       "    </tr>\n",
       "  </thead>\n",
       "  <tbody>\n",
       "    <tr>\n",
       "      <th>0</th>\n",
       "      <td>1</td>\n",
       "      <td>0</td>\n",
       "      <td>3</td>\n",
       "      <td>22.0</td>\n",
       "      <td>1</td>\n",
       "      <td>0</td>\n",
       "      <td>7.2500</td>\n",
       "      <td>S</td>\n",
       "      <td>1</td>\n",
       "    </tr>\n",
       "    <tr>\n",
       "      <th>1</th>\n",
       "      <td>2</td>\n",
       "      <td>1</td>\n",
       "      <td>1</td>\n",
       "      <td>38.0</td>\n",
       "      <td>1</td>\n",
       "      <td>0</td>\n",
       "      <td>71.2833</td>\n",
       "      <td>C</td>\n",
       "      <td>0</td>\n",
       "    </tr>\n",
       "    <tr>\n",
       "      <th>2</th>\n",
       "      <td>3</td>\n",
       "      <td>1</td>\n",
       "      <td>3</td>\n",
       "      <td>26.0</td>\n",
       "      <td>0</td>\n",
       "      <td>0</td>\n",
       "      <td>7.9250</td>\n",
       "      <td>S</td>\n",
       "      <td>0</td>\n",
       "    </tr>\n",
       "    <tr>\n",
       "      <th>3</th>\n",
       "      <td>4</td>\n",
       "      <td>1</td>\n",
       "      <td>1</td>\n",
       "      <td>35.0</td>\n",
       "      <td>1</td>\n",
       "      <td>0</td>\n",
       "      <td>53.1000</td>\n",
       "      <td>S</td>\n",
       "      <td>0</td>\n",
       "    </tr>\n",
       "    <tr>\n",
       "      <th>4</th>\n",
       "      <td>5</td>\n",
       "      <td>0</td>\n",
       "      <td>3</td>\n",
       "      <td>35.0</td>\n",
       "      <td>0</td>\n",
       "      <td>0</td>\n",
       "      <td>8.0500</td>\n",
       "      <td>S</td>\n",
       "      <td>1</td>\n",
       "    </tr>\n",
       "  </tbody>\n",
       "</table>\n",
       "</div>"
      ],
      "text/plain": [
       "   PassengerId  Survived  Pclass   Age  SibSp  Parch     Fare Embarked  Gender\n",
       "0            1         0       3  22.0      1      0   7.2500        S       1\n",
       "1            2         1       1  38.0      1      0  71.2833        C       0\n",
       "2            3         1       3  26.0      0      0   7.9250        S       0\n",
       "3            4         1       1  35.0      1      0  53.1000        S       0\n",
       "4            5         0       3  35.0      0      0   8.0500        S       1"
      ]
     },
     "execution_count": 76,
     "metadata": {},
     "output_type": "execute_result"
    }
   ],
   "source": [
    "# Replace gender by number, 1 representing male, 0 representing female and delete original conlumn\n",
    "titanic_gender = titanic_raw_data[\"Sex\"]\n",
    "titanic_gender = titanic_gender.replace(\"male\", 1)\n",
    "titanic_gender = titanic_gender.replace(\"female\",0)\n",
    "titanic_raw_data[\"Gender\"] = titanic_gender\n",
    "del titanic_raw_data[\"Sex\"]\n",
    "#we do not care about their name and cabin\n",
    "del titanic_raw_data[\"Name\"]\n",
    "del titanic_raw_data[\"Cabin\"]\n",
    "#drop ticket which we are not concerned with\n",
    "del titanic_raw_data[\"Ticket\"]\n",
    "#Now get the new raw data\n",
    "titanic_raw_data.head()"
   ]
  },
  {
   "cell_type": "code",
   "execution_count": 77,
   "metadata": {
    "collapsed": false
   },
   "outputs": [
    {
     "data": {
      "text/html": [
       "<div>\n",
       "<table border=\"1\" class=\"dataframe\">\n",
       "  <thead>\n",
       "    <tr style=\"text-align: right;\">\n",
       "      <th></th>\n",
       "      <th>PassengerId</th>\n",
       "      <th>Survived</th>\n",
       "      <th>Pclass</th>\n",
       "      <th>Age</th>\n",
       "      <th>SibSp</th>\n",
       "      <th>Parch</th>\n",
       "      <th>Fare</th>\n",
       "      <th>Gender</th>\n",
       "    </tr>\n",
       "  </thead>\n",
       "  <tbody>\n",
       "    <tr>\n",
       "      <th>count</th>\n",
       "      <td>891.000000</td>\n",
       "      <td>891.000000</td>\n",
       "      <td>891.000000</td>\n",
       "      <td>714.000000</td>\n",
       "      <td>891.000000</td>\n",
       "      <td>891.000000</td>\n",
       "      <td>891.000000</td>\n",
       "      <td>891.000000</td>\n",
       "    </tr>\n",
       "    <tr>\n",
       "      <th>mean</th>\n",
       "      <td>446.000000</td>\n",
       "      <td>0.383838</td>\n",
       "      <td>2.308642</td>\n",
       "      <td>29.699118</td>\n",
       "      <td>0.523008</td>\n",
       "      <td>0.381594</td>\n",
       "      <td>32.204208</td>\n",
       "      <td>0.647587</td>\n",
       "    </tr>\n",
       "    <tr>\n",
       "      <th>std</th>\n",
       "      <td>257.353842</td>\n",
       "      <td>0.486592</td>\n",
       "      <td>0.836071</td>\n",
       "      <td>14.526497</td>\n",
       "      <td>1.102743</td>\n",
       "      <td>0.806057</td>\n",
       "      <td>49.693429</td>\n",
       "      <td>0.477990</td>\n",
       "    </tr>\n",
       "    <tr>\n",
       "      <th>min</th>\n",
       "      <td>1.000000</td>\n",
       "      <td>0.000000</td>\n",
       "      <td>1.000000</td>\n",
       "      <td>0.420000</td>\n",
       "      <td>0.000000</td>\n",
       "      <td>0.000000</td>\n",
       "      <td>0.000000</td>\n",
       "      <td>0.000000</td>\n",
       "    </tr>\n",
       "    <tr>\n",
       "      <th>25%</th>\n",
       "      <td>223.500000</td>\n",
       "      <td>0.000000</td>\n",
       "      <td>2.000000</td>\n",
       "      <td>20.125000</td>\n",
       "      <td>0.000000</td>\n",
       "      <td>0.000000</td>\n",
       "      <td>7.910400</td>\n",
       "      <td>0.000000</td>\n",
       "    </tr>\n",
       "    <tr>\n",
       "      <th>50%</th>\n",
       "      <td>446.000000</td>\n",
       "      <td>0.000000</td>\n",
       "      <td>3.000000</td>\n",
       "      <td>28.000000</td>\n",
       "      <td>0.000000</td>\n",
       "      <td>0.000000</td>\n",
       "      <td>14.454200</td>\n",
       "      <td>1.000000</td>\n",
       "    </tr>\n",
       "    <tr>\n",
       "      <th>75%</th>\n",
       "      <td>668.500000</td>\n",
       "      <td>1.000000</td>\n",
       "      <td>3.000000</td>\n",
       "      <td>38.000000</td>\n",
       "      <td>1.000000</td>\n",
       "      <td>0.000000</td>\n",
       "      <td>31.000000</td>\n",
       "      <td>1.000000</td>\n",
       "    </tr>\n",
       "    <tr>\n",
       "      <th>max</th>\n",
       "      <td>891.000000</td>\n",
       "      <td>1.000000</td>\n",
       "      <td>3.000000</td>\n",
       "      <td>80.000000</td>\n",
       "      <td>8.000000</td>\n",
       "      <td>6.000000</td>\n",
       "      <td>512.329200</td>\n",
       "      <td>1.000000</td>\n",
       "    </tr>\n",
       "  </tbody>\n",
       "</table>\n",
       "</div>"
      ],
      "text/plain": [
       "       PassengerId    Survived      Pclass         Age       SibSp  \\\n",
       "count   891.000000  891.000000  891.000000  714.000000  891.000000   \n",
       "mean    446.000000    0.383838    2.308642   29.699118    0.523008   \n",
       "std     257.353842    0.486592    0.836071   14.526497    1.102743   \n",
       "min       1.000000    0.000000    1.000000    0.420000    0.000000   \n",
       "25%     223.500000    0.000000    2.000000   20.125000    0.000000   \n",
       "50%     446.000000    0.000000    3.000000   28.000000    0.000000   \n",
       "75%     668.500000    1.000000    3.000000   38.000000    1.000000   \n",
       "max     891.000000    1.000000    3.000000   80.000000    8.000000   \n",
       "\n",
       "            Parch        Fare      Gender  \n",
       "count  891.000000  891.000000  891.000000  \n",
       "mean     0.381594   32.204208    0.647587  \n",
       "std      0.806057   49.693429    0.477990  \n",
       "min      0.000000    0.000000    0.000000  \n",
       "25%      0.000000    7.910400    0.000000  \n",
       "50%      0.000000   14.454200    1.000000  \n",
       "75%      0.000000   31.000000    1.000000  \n",
       "max      6.000000  512.329200    1.000000  "
      ]
     },
     "execution_count": 77,
     "metadata": {},
     "output_type": "execute_result"
    }
   ],
   "source": [
    "#see basic information\n",
    "titanic_raw_data.describe()"
   ]
  },
  {
   "cell_type": "code",
   "execution_count": 78,
   "metadata": {
    "collapsed": false
   },
   "outputs": [
    {
     "data": {
      "text/html": [
       "<div>\n",
       "<table border=\"1\" class=\"dataframe\">\n",
       "  <thead>\n",
       "    <tr style=\"text-align: right;\">\n",
       "      <th></th>\n",
       "      <th>PassengerId</th>\n",
       "      <th>Survived</th>\n",
       "      <th>Pclass</th>\n",
       "      <th>Age</th>\n",
       "      <th>SibSp</th>\n",
       "      <th>Parch</th>\n",
       "      <th>Fare</th>\n",
       "      <th>Gender</th>\n",
       "    </tr>\n",
       "  </thead>\n",
       "  <tbody>\n",
       "    <tr>\n",
       "      <th>count</th>\n",
       "      <td>177.000000</td>\n",
       "      <td>177.000000</td>\n",
       "      <td>177.000000</td>\n",
       "      <td>0.0</td>\n",
       "      <td>177.000000</td>\n",
       "      <td>177.000000</td>\n",
       "      <td>177.000000</td>\n",
       "      <td>177.000000</td>\n",
       "    </tr>\n",
       "    <tr>\n",
       "      <th>mean</th>\n",
       "      <td>435.581921</td>\n",
       "      <td>0.293785</td>\n",
       "      <td>2.598870</td>\n",
       "      <td>NaN</td>\n",
       "      <td>0.564972</td>\n",
       "      <td>0.180791</td>\n",
       "      <td>22.158567</td>\n",
       "      <td>0.700565</td>\n",
       "    </tr>\n",
       "    <tr>\n",
       "      <th>std</th>\n",
       "      <td>250.552901</td>\n",
       "      <td>0.456787</td>\n",
       "      <td>0.763216</td>\n",
       "      <td>NaN</td>\n",
       "      <td>1.626316</td>\n",
       "      <td>0.534145</td>\n",
       "      <td>31.874608</td>\n",
       "      <td>0.459310</td>\n",
       "    </tr>\n",
       "    <tr>\n",
       "      <th>min</th>\n",
       "      <td>6.000000</td>\n",
       "      <td>0.000000</td>\n",
       "      <td>1.000000</td>\n",
       "      <td>NaN</td>\n",
       "      <td>0.000000</td>\n",
       "      <td>0.000000</td>\n",
       "      <td>0.000000</td>\n",
       "      <td>0.000000</td>\n",
       "    </tr>\n",
       "    <tr>\n",
       "      <th>25%</th>\n",
       "      <td>230.000000</td>\n",
       "      <td>0.000000</td>\n",
       "      <td>3.000000</td>\n",
       "      <td>NaN</td>\n",
       "      <td>0.000000</td>\n",
       "      <td>0.000000</td>\n",
       "      <td>7.750000</td>\n",
       "      <td>0.000000</td>\n",
       "    </tr>\n",
       "    <tr>\n",
       "      <th>50%</th>\n",
       "      <td>452.000000</td>\n",
       "      <td>0.000000</td>\n",
       "      <td>3.000000</td>\n",
       "      <td>NaN</td>\n",
       "      <td>0.000000</td>\n",
       "      <td>0.000000</td>\n",
       "      <td>8.050000</td>\n",
       "      <td>1.000000</td>\n",
       "    </tr>\n",
       "    <tr>\n",
       "      <th>75%</th>\n",
       "      <td>634.000000</td>\n",
       "      <td>1.000000</td>\n",
       "      <td>3.000000</td>\n",
       "      <td>NaN</td>\n",
       "      <td>0.000000</td>\n",
       "      <td>0.000000</td>\n",
       "      <td>24.150000</td>\n",
       "      <td>1.000000</td>\n",
       "    </tr>\n",
       "    <tr>\n",
       "      <th>max</th>\n",
       "      <td>889.000000</td>\n",
       "      <td>1.000000</td>\n",
       "      <td>3.000000</td>\n",
       "      <td>NaN</td>\n",
       "      <td>8.000000</td>\n",
       "      <td>2.000000</td>\n",
       "      <td>227.525000</td>\n",
       "      <td>1.000000</td>\n",
       "    </tr>\n",
       "  </tbody>\n",
       "</table>\n",
       "</div>"
      ],
      "text/plain": [
       "       PassengerId    Survived      Pclass  Age       SibSp       Parch  \\\n",
       "count   177.000000  177.000000  177.000000  0.0  177.000000  177.000000   \n",
       "mean    435.581921    0.293785    2.598870  NaN    0.564972    0.180791   \n",
       "std     250.552901    0.456787    0.763216  NaN    1.626316    0.534145   \n",
       "min       6.000000    0.000000    1.000000  NaN    0.000000    0.000000   \n",
       "25%     230.000000    0.000000    3.000000  NaN    0.000000    0.000000   \n",
       "50%     452.000000    0.000000    3.000000  NaN    0.000000    0.000000   \n",
       "75%     634.000000    1.000000    3.000000  NaN    0.000000    0.000000   \n",
       "max     889.000000    1.000000    3.000000  NaN    8.000000    2.000000   \n",
       "\n",
       "             Fare      Gender  \n",
       "count  177.000000  177.000000  \n",
       "mean    22.158567    0.700565  \n",
       "std     31.874608    0.459310  \n",
       "min      0.000000    0.000000  \n",
       "25%      7.750000    0.000000  \n",
       "50%      8.050000    1.000000  \n",
       "75%     24.150000    1.000000  \n",
       "max    227.525000    1.000000  "
      ]
     },
     "execution_count": 78,
     "metadata": {},
     "output_type": "execute_result"
    }
   ],
   "source": [
    "#Found that some ages are NA. Compare samples with avaliable age to those without ages info\n",
    "titanic_raw_data_without_age = titanic_raw_data[titanic_raw_data[\"Age\"].isnull()]\n",
    "titanic_raw_data_without_age.describe()"
   ]
  },
  {
   "cell_type": "code",
   "execution_count": 79,
   "metadata": {
    "collapsed": false
   },
   "outputs": [
    {
     "data": {
      "text/html": [
       "<div>\n",
       "<table border=\"1\" class=\"dataframe\">\n",
       "  <thead>\n",
       "    <tr style=\"text-align: right;\">\n",
       "      <th></th>\n",
       "      <th>PassengerId</th>\n",
       "      <th>Survived</th>\n",
       "      <th>Pclass</th>\n",
       "      <th>Age</th>\n",
       "      <th>SibSp</th>\n",
       "      <th>Parch</th>\n",
       "      <th>Fare</th>\n",
       "      <th>Gender</th>\n",
       "    </tr>\n",
       "  </thead>\n",
       "  <tbody>\n",
       "    <tr>\n",
       "      <th>count</th>\n",
       "      <td>714.000000</td>\n",
       "      <td>714.000000</td>\n",
       "      <td>714.000000</td>\n",
       "      <td>714.000000</td>\n",
       "      <td>714.000000</td>\n",
       "      <td>714.000000</td>\n",
       "      <td>714.000000</td>\n",
       "      <td>714.000000</td>\n",
       "    </tr>\n",
       "    <tr>\n",
       "      <th>mean</th>\n",
       "      <td>448.582633</td>\n",
       "      <td>0.406162</td>\n",
       "      <td>2.236695</td>\n",
       "      <td>29.699118</td>\n",
       "      <td>0.512605</td>\n",
       "      <td>0.431373</td>\n",
       "      <td>34.694514</td>\n",
       "      <td>0.634454</td>\n",
       "    </tr>\n",
       "    <tr>\n",
       "      <th>std</th>\n",
       "      <td>259.119524</td>\n",
       "      <td>0.491460</td>\n",
       "      <td>0.838250</td>\n",
       "      <td>14.526497</td>\n",
       "      <td>0.929783</td>\n",
       "      <td>0.853289</td>\n",
       "      <td>52.918930</td>\n",
       "      <td>0.481921</td>\n",
       "    </tr>\n",
       "    <tr>\n",
       "      <th>min</th>\n",
       "      <td>1.000000</td>\n",
       "      <td>0.000000</td>\n",
       "      <td>1.000000</td>\n",
       "      <td>0.420000</td>\n",
       "      <td>0.000000</td>\n",
       "      <td>0.000000</td>\n",
       "      <td>0.000000</td>\n",
       "      <td>0.000000</td>\n",
       "    </tr>\n",
       "    <tr>\n",
       "      <th>25%</th>\n",
       "      <td>222.250000</td>\n",
       "      <td>0.000000</td>\n",
       "      <td>1.000000</td>\n",
       "      <td>20.125000</td>\n",
       "      <td>0.000000</td>\n",
       "      <td>0.000000</td>\n",
       "      <td>8.050000</td>\n",
       "      <td>0.000000</td>\n",
       "    </tr>\n",
       "    <tr>\n",
       "      <th>50%</th>\n",
       "      <td>445.000000</td>\n",
       "      <td>0.000000</td>\n",
       "      <td>2.000000</td>\n",
       "      <td>28.000000</td>\n",
       "      <td>0.000000</td>\n",
       "      <td>0.000000</td>\n",
       "      <td>15.741700</td>\n",
       "      <td>1.000000</td>\n",
       "    </tr>\n",
       "    <tr>\n",
       "      <th>75%</th>\n",
       "      <td>677.750000</td>\n",
       "      <td>1.000000</td>\n",
       "      <td>3.000000</td>\n",
       "      <td>38.000000</td>\n",
       "      <td>1.000000</td>\n",
       "      <td>1.000000</td>\n",
       "      <td>33.375000</td>\n",
       "      <td>1.000000</td>\n",
       "    </tr>\n",
       "    <tr>\n",
       "      <th>max</th>\n",
       "      <td>891.000000</td>\n",
       "      <td>1.000000</td>\n",
       "      <td>3.000000</td>\n",
       "      <td>80.000000</td>\n",
       "      <td>5.000000</td>\n",
       "      <td>6.000000</td>\n",
       "      <td>512.329200</td>\n",
       "      <td>1.000000</td>\n",
       "    </tr>\n",
       "  </tbody>\n",
       "</table>\n",
       "</div>"
      ],
      "text/plain": [
       "       PassengerId    Survived      Pclass         Age       SibSp  \\\n",
       "count   714.000000  714.000000  714.000000  714.000000  714.000000   \n",
       "mean    448.582633    0.406162    2.236695   29.699118    0.512605   \n",
       "std     259.119524    0.491460    0.838250   14.526497    0.929783   \n",
       "min       1.000000    0.000000    1.000000    0.420000    0.000000   \n",
       "25%     222.250000    0.000000    1.000000   20.125000    0.000000   \n",
       "50%     445.000000    0.000000    2.000000   28.000000    0.000000   \n",
       "75%     677.750000    1.000000    3.000000   38.000000    1.000000   \n",
       "max     891.000000    1.000000    3.000000   80.000000    5.000000   \n",
       "\n",
       "            Parch        Fare      Gender  \n",
       "count  714.000000  714.000000  714.000000  \n",
       "mean     0.431373   34.694514    0.634454  \n",
       "std      0.853289   52.918930    0.481921  \n",
       "min      0.000000    0.000000    0.000000  \n",
       "25%      0.000000    8.050000    0.000000  \n",
       "50%      0.000000   15.741700    1.000000  \n",
       "75%      1.000000   33.375000    1.000000  \n",
       "max      6.000000  512.329200    1.000000  "
      ]
     },
     "execution_count": 79,
     "metadata": {},
     "output_type": "execute_result"
    }
   ],
   "source": [
    "titanic_raw_data_with_age = titanic_raw_data[titanic_raw_data[\"Age\"].notnull()]\n",
    "titanic_raw_data_with_age.describe()"
   ]
  },
  {
   "cell_type": "code",
   "execution_count": 80,
   "metadata": {
    "collapsed": false
   },
   "outputs": [
    {
     "name": "stdout",
     "output_type": "stream",
     "text": [
      "Gender        0    1\n",
      "Parch Flag          \n",
      "0           192  484\n",
      "1           120   93 \n",
      "\n",
      "Results of Chi-Squared test on Gender to Parch.\n",
      "Does Gender have a significant effect on Parch?\n",
      "Chi-Squared Score = 54.2704839693\n",
      "Pvalue = 1.74706420427e-13\n",
      "\n",
      "\n"
     ]
    }
   ],
   "source": [
    "# Chi-Squared Tests\n",
    "# Gender to Parch\n",
    "import scipy.stats\n",
    "pivot = pd.pivot_table(data = titanic_raw_data_without_emb[['Gender', 'Parch Flag']], index = 'Parch Flag', columns = ['Gender'], aggfunc = len)\n",
    "pivot\n",
    "print pivot,\"\\n\"\n",
    "# Pclass      1   2    3\n",
    "# Survived              \n",
    "# 0          80  97  372\n",
    "# 1         136  87  119\n",
    "chi2, p_value, dof, expected = scipy.stats.chi2_contingency(pivot)\n",
    "print \"Results of Chi-Squared test on Gender to Parch.\"\n",
    "print \"Does Gender have a significant effect on Parch?\"\n",
    "print \"Chi-Squared Score = \" + str(chi2)\n",
    "print \"Pvalue = \" + str(p_value)\n",
    "print \"\\n\""
   ]
  },
  {
   "cell_type": "code",
   "execution_count": 81,
   "metadata": {
    "collapsed": false
   },
   "outputs": [],
   "source": [
    "#fig = plt.figure()\n",
    "#ax = fig.add_subplot(111)\n",
    "\n",
    "#data_with_pclass1_fare = titanic_raw_data[titanic_raw_data[\"Pclass\"]==1][\"Fare\"]\n",
    "#data_with_pclass2_fare = titanic_raw_data[titanic_raw_data[\"Pclass\"]==2][\"Fare\"]\n",
    "#data_with_pclass3_fare = titanic_raw_data[titanic_raw_data[\"Pclass\"]==3][\"Fare\"]\n",
    "#data_with_pclass_fare = [data_with_pclass1_fare,data_with_pclass2_fare,data_with_pclass3_fare]\n",
    "#ax.boxplot(data_with_pclass_fare)\n",
    "#plt.ylim(0,180)\n",
    "#fig = matplotlib.pyplot.gcf()\n",
    "#fig.set_size_inches(15, 10)    #figure size\n",
    "#plt.xlabel('Pclass', fontsize = 18)\n",
    "#plt.ylabel('Fare',fontsize = 18)\n",
    "#plt.title('Fare distribution by Pclass', fontsize = 20)\n",
    "#plt.legend(loc=0, numpoints=1)    #legend size seted to xx-large\n",
    "#leg = plt.gca().get_legend()\n",
    "#plt.setp(ltext, fontsize='xx-large') \n",
    "#fig.savefig('Fare distribution by Pclass.png', dpi=100)    #export figure\n",
    "#plt.show()"
   ]
  },
  {
   "cell_type": "code",
   "execution_count": 82,
   "metadata": {
    "collapsed": false
   },
   "outputs": [
    {
     "data": {
      "image/png": "[encoded data removed]",
      "text/plain": [
       "<matplotlib.figure.Figure at 0xc804128>"
      ]
     },
     "metadata": {},
     "output_type": "display_data"
    }
   ],
   "source": [
    "sb.boxplot(data = titanic_raw_data.sort_values(by = 'Pclass').dropna(subset = ['Age', 'Fare']),x = 'Pclass', y = 'Fare')\n",
    "plt.title('Fare Distribution\\nby\\nClass',fontsize = 20)\n",
    "fig = matplotlib.pyplot.gcf()\n",
    "fig.set_size_inches(15, 10)    #figure size\n",
    "plt.legend(loc=0, numpoints=1)    #legend size seted to xx-large\n",
    "leg = plt.gca().get_legend()\n",
    "plt.xlabel('Pclass', fontsize = 18)\n",
    "plt.ylabel('Fare',fontsize = 18)\n",
    "fig.savefig('Fare distribution by Pclass.png', dpi=100)    #export figure"
   ]
  },
  {
   "cell_type": "code",
   "execution_count": 83,
   "metadata": {
    "collapsed": false
   },
   "outputs": [
    {
     "data": {
      "text/html": [
       "<div>\n",
       "<table border=\"1\" class=\"dataframe\">\n",
       "  <thead>\n",
       "    <tr style=\"text-align: right;\">\n",
       "      <th></th>\n",
       "      <th>PassengerId</th>\n",
       "      <th>Survived</th>\n",
       "      <th>Pclass</th>\n",
       "      <th>Age</th>\n",
       "      <th>SibSp</th>\n",
       "      <th>Parch</th>\n",
       "      <th>Gender</th>\n",
       "    </tr>\n",
       "  </thead>\n",
       "  <tbody>\n",
       "    <tr>\n",
       "      <th>count</th>\n",
       "      <td>891.000000</td>\n",
       "      <td>891.000000</td>\n",
       "      <td>891.000000</td>\n",
       "      <td>714.000000</td>\n",
       "      <td>891.000000</td>\n",
       "      <td>891.000000</td>\n",
       "      <td>891.000000</td>\n",
       "    </tr>\n",
       "    <tr>\n",
       "      <th>mean</th>\n",
       "      <td>446.000000</td>\n",
       "      <td>0.383838</td>\n",
       "      <td>2.308642</td>\n",
       "      <td>29.699118</td>\n",
       "      <td>0.523008</td>\n",
       "      <td>0.381594</td>\n",
       "      <td>0.647587</td>\n",
       "    </tr>\n",
       "    <tr>\n",
       "      <th>std</th>\n",
       "      <td>257.353842</td>\n",
       "      <td>0.486592</td>\n",
       "      <td>0.836071</td>\n",
       "      <td>14.526497</td>\n",
       "      <td>1.102743</td>\n",
       "      <td>0.806057</td>\n",
       "      <td>0.477990</td>\n",
       "    </tr>\n",
       "    <tr>\n",
       "      <th>min</th>\n",
       "      <td>1.000000</td>\n",
       "      <td>0.000000</td>\n",
       "      <td>1.000000</td>\n",
       "      <td>0.420000</td>\n",
       "      <td>0.000000</td>\n",
       "      <td>0.000000</td>\n",
       "      <td>0.000000</td>\n",
       "    </tr>\n",
       "    <tr>\n",
       "      <th>25%</th>\n",
       "      <td>223.500000</td>\n",
       "      <td>0.000000</td>\n",
       "      <td>2.000000</td>\n",
       "      <td>20.125000</td>\n",
       "      <td>0.000000</td>\n",
       "      <td>0.000000</td>\n",
       "      <td>0.000000</td>\n",
       "    </tr>\n",
       "    <tr>\n",
       "      <th>50%</th>\n",
       "      <td>446.000000</td>\n",
       "      <td>0.000000</td>\n",
       "      <td>3.000000</td>\n",
       "      <td>28.000000</td>\n",
       "      <td>0.000000</td>\n",
       "      <td>0.000000</td>\n",
       "      <td>1.000000</td>\n",
       "    </tr>\n",
       "    <tr>\n",
       "      <th>75%</th>\n",
       "      <td>668.500000</td>\n",
       "      <td>1.000000</td>\n",
       "      <td>3.000000</td>\n",
       "      <td>38.000000</td>\n",
       "      <td>1.000000</td>\n",
       "      <td>0.000000</td>\n",
       "      <td>1.000000</td>\n",
       "    </tr>\n",
       "    <tr>\n",
       "      <th>max</th>\n",
       "      <td>891.000000</td>\n",
       "      <td>1.000000</td>\n",
       "      <td>3.000000</td>\n",
       "      <td>80.000000</td>\n",
       "      <td>8.000000</td>\n",
       "      <td>6.000000</td>\n",
       "      <td>1.000000</td>\n",
       "    </tr>\n",
       "  </tbody>\n",
       "</table>\n",
       "</div>"
      ],
      "text/plain": [
       "       PassengerId    Survived      Pclass         Age       SibSp  \\\n",
       "count   891.000000  891.000000  891.000000  714.000000  891.000000   \n",
       "mean    446.000000    0.383838    2.308642   29.699118    0.523008   \n",
       "std     257.353842    0.486592    0.836071   14.526497    1.102743   \n",
       "min       1.000000    0.000000    1.000000    0.420000    0.000000   \n",
       "25%     223.500000    0.000000    2.000000   20.125000    0.000000   \n",
       "50%     446.000000    0.000000    3.000000   28.000000    0.000000   \n",
       "75%     668.500000    1.000000    3.000000   38.000000    1.000000   \n",
       "max     891.000000    1.000000    3.000000   80.000000    8.000000   \n",
       "\n",
       "            Parch      Gender  \n",
       "count  891.000000  891.000000  \n",
       "mean     0.381594    0.647587  \n",
       "std      0.806057    0.477990  \n",
       "min      0.000000    0.000000  \n",
       "25%      0.000000    0.000000  \n",
       "50%      0.000000    1.000000  \n",
       "75%      0.000000    1.000000  \n",
       "max      6.000000    1.000000  "
      ]
     },
     "execution_count": 83,
     "metadata": {},
     "output_type": "execute_result"
    }
   ],
   "source": [
    "del titanic_raw_data[\"Fare\"]\n",
    "titanic_raw_data.describe()"
   ]
  },
  {
   "cell_type": "code",
   "execution_count": 84,
   "metadata": {
    "collapsed": false
   },
   "outputs": [
    {
     "name": "stdout",
     "output_type": "stream",
     "text": [
      "ttest_ind: t = 4.88464  p = 1.46771e-06\n"
     ]
    }
   ],
   "source": [
    "#T-test variable Parch\n",
    "a = titanic_raw_data_with_age[\"Parch\"]\n",
    "b = titanic_raw_data_without_age[\"Parch\"]\n",
    "t, p = ttest_ind(a, b, equal_var=False)\n",
    "print \"ttest_ind: t = %g  p = %g\" % (t, p)"
   ]
  },
  {
   "cell_type": "code",
   "execution_count": 85,
   "metadata": {
    "collapsed": false
   },
   "outputs": [
    {
     "data": {
      "text/html": [
       "<div>\n",
       "<table border=\"1\" class=\"dataframe\">\n",
       "  <thead>\n",
       "    <tr style=\"text-align: right;\">\n",
       "      <th></th>\n",
       "      <th>PassengerId</th>\n",
       "      <th>Survived</th>\n",
       "      <th>Pclass</th>\n",
       "      <th>Age</th>\n",
       "      <th>SibSp</th>\n",
       "      <th>Parch</th>\n",
       "      <th>Embarked</th>\n",
       "      <th>Gender</th>\n",
       "    </tr>\n",
       "  </thead>\n",
       "  <tbody>\n",
       "    <tr>\n",
       "      <th>0</th>\n",
       "      <td>1</td>\n",
       "      <td>0</td>\n",
       "      <td>3</td>\n",
       "      <td>22.0</td>\n",
       "      <td>1</td>\n",
       "      <td>0</td>\n",
       "      <td>S</td>\n",
       "      <td>1</td>\n",
       "    </tr>\n",
       "    <tr>\n",
       "      <th>1</th>\n",
       "      <td>2</td>\n",
       "      <td>1</td>\n",
       "      <td>1</td>\n",
       "      <td>38.0</td>\n",
       "      <td>1</td>\n",
       "      <td>0</td>\n",
       "      <td>C</td>\n",
       "      <td>0</td>\n",
       "    </tr>\n",
       "    <tr>\n",
       "      <th>2</th>\n",
       "      <td>3</td>\n",
       "      <td>1</td>\n",
       "      <td>3</td>\n",
       "      <td>26.0</td>\n",
       "      <td>0</td>\n",
       "      <td>0</td>\n",
       "      <td>S</td>\n",
       "      <td>0</td>\n",
       "    </tr>\n",
       "    <tr>\n",
       "      <th>3</th>\n",
       "      <td>4</td>\n",
       "      <td>1</td>\n",
       "      <td>1</td>\n",
       "      <td>35.0</td>\n",
       "      <td>1</td>\n",
       "      <td>0</td>\n",
       "      <td>S</td>\n",
       "      <td>0</td>\n",
       "    </tr>\n",
       "    <tr>\n",
       "      <th>4</th>\n",
       "      <td>5</td>\n",
       "      <td>0</td>\n",
       "      <td>3</td>\n",
       "      <td>35.0</td>\n",
       "      <td>0</td>\n",
       "      <td>0</td>\n",
       "      <td>S</td>\n",
       "      <td>1</td>\n",
       "    </tr>\n",
       "  </tbody>\n",
       "</table>\n",
       "</div>"
      ],
      "text/plain": [
       "   PassengerId  Survived  Pclass   Age  SibSp  Parch Embarked  Gender\n",
       "0            1         0       3  22.0      1      0        S       1\n",
       "1            2         1       1  38.0      1      0        C       0\n",
       "2            3         1       3  26.0      0      0        S       0\n",
       "3            4         1       1  35.0      1      0        S       0\n",
       "4            5         0       3  35.0      0      0        S       1"
      ]
     },
     "execution_count": 85,
     "metadata": {},
     "output_type": "execute_result"
    }
   ],
   "source": [
    "#find that there are two samples missed Embarked. Deleted them.\n",
    "titanic_raw_data_without_emb = titanic_raw_data[titanic_raw_data[\"Embarked\"].notnull()]\n",
    "titanic_raw_data_without_emb.reset_index(drop = True, inplace = True)\n",
    "titanic_raw_data_without_emb.head()"
   ]
  },
  {
   "cell_type": "code",
   "execution_count": 86,
   "metadata": {
    "collapsed": false
   },
   "outputs": [
    {
     "data": {
      "text/html": [
       "<div>\n",
       "<table border=\"1\" class=\"dataframe\">\n",
       "  <thead>\n",
       "    <tr style=\"text-align: right;\">\n",
       "      <th></th>\n",
       "      <th>Not Survival</th>\n",
       "      <th>Survival</th>\n",
       "    </tr>\n",
       "  </thead>\n",
       "  <tbody>\n",
       "    <tr>\n",
       "      <th>Male</th>\n",
       "      <td>468</td>\n",
       "      <td>109</td>\n",
       "    </tr>\n",
       "    <tr>\n",
       "      <th>Female</th>\n",
       "      <td>81</td>\n",
       "      <td>231</td>\n",
       "    </tr>\n",
       "  </tbody>\n",
       "</table>\n",
       "</div>"
      ],
      "text/plain": [
       "        Not Survival  Survival\n",
       "Male             468       109\n",
       "Female            81       231"
      ]
     },
     "execution_count": 86,
     "metadata": {},
     "output_type": "execute_result"
    },
    {
     "data": {
      "image/png": "[encoded data removed]",
      "text/plain": [
       "<matplotlib.figure.Figure at 0xb339f60>"
      ]
     },
     "metadata": {},
     "output_type": "display_data"
    }
   ],
   "source": [
    "#explore the relationship between survival and Pclss and gender. \n",
    "#survival and gender\n",
    "grouped_data_by_gender = titanic_raw_data_without_emb.groupby([\"Survived\",\"Gender\"])\n",
    "#generate a dataframe\n",
    "grouped_df_by_gender = pd.DataFrame({\"Survival\":[grouped_data_by_gender.get_group((1,1)).count()[\"Survived\"],\n",
    "                                   grouped_data_by_gender.get_group((1,0)).count()[\"Survived\"]],\n",
    "                           \"Not Survival\":[grouped_data_by_gender.get_group((0,1)).count()[\"Survived\"],\n",
    "                                     grouped_data_by_gender.get_group((0,0)).count()[\"Survived\"]]},\n",
    "                          index = [\"Male\",\"Female\"])\n",
    "#plot the dataframe, relationship between survival and gender\n",
    "grouped_df_by_gender.plot.bar(fontsize = 18)\n",
    "fig = matplotlib.pyplot.gcf()\n",
    "fig.set_size_inches(15, 10)    #figure size\n",
    "plt.xlabel('Gender', fontsize = 18)\n",
    "plt.ylabel('Frequency',fontsize = 18)\n",
    "plt.title('Passenger number grouped by gender', fontsize = 20)\n",
    "plt.legend(loc=0, numpoints=1)    #legend size seted to xx-large\n",
    "leg = plt.gca().get_legend()\n",
    "ltext  = leg.get_texts()\n",
    "plt.setp(ltext, fontsize='xx-large') \n",
    "fig.savefig('Passenger number grouped by gender.png', dpi=100)    #export figure\n",
    "grouped_df_by_gender"
   ]
  },
  {
   "cell_type": "code",
   "execution_count": 87,
   "metadata": {
    "collapsed": false
   },
   "outputs": [
    {
     "name": "stdout",
     "output_type": "stream",
     "text": [
      "Gender      0    1\n",
      "Survived          \n",
      "0          81  468\n",
      "1         233  109 \n",
      "\n",
      "Results of Chi-Squared test on Gender to Survival.\n",
      "Does Gender have a significant effect on Survival?\n",
      "Chi-Squared Score = 260.717020167\n",
      "Pvalue = 1.19735706278e-58\n",
      "\n",
      "\n"
     ]
    }
   ],
   "source": [
    "# Chi-Squared Tests\n",
    "# Gender to Survivability\n",
    "import scipy.stats\n",
    "pivot = pd.pivot_table(data = titanic_raw_data[['Survived', 'Gender']], index = 'Survived', columns = ['Gender'], aggfunc = len)\n",
    "pivot\n",
    "print pivot,\"\\n\"\n",
    "chi2, p_value, dof, expected = scipy.stats.chi2_contingency(pivot)\n",
    "print \"Results of Chi-Squared test on Gender to Survival.\"\n",
    "print \"Does Gender have a significant effect on Survival?\"\n",
    "print \"Chi-Squared Score = \" + str(chi2)\n",
    "print \"Pvalue = \" + str(p_value)\n",
    "print \"\\n\""
   ]
  },
  {
   "cell_type": "code",
   "execution_count": 88,
   "metadata": {
    "collapsed": false
   },
   "outputs": [
    {
     "data": {
      "text/html": [
       "<div>\n",
       "<table border=\"1\" class=\"dataframe\">\n",
       "  <thead>\n",
       "    <tr style=\"text-align: right;\">\n",
       "      <th></th>\n",
       "      <th>Not Survival</th>\n",
       "      <th>Survival</th>\n",
       "    </tr>\n",
       "  </thead>\n",
       "  <tbody>\n",
       "    <tr>\n",
       "      <th>1</th>\n",
       "      <td>80</td>\n",
       "      <td>134</td>\n",
       "    </tr>\n",
       "    <tr>\n",
       "      <th>2</th>\n",
       "      <td>97</td>\n",
       "      <td>87</td>\n",
       "    </tr>\n",
       "    <tr>\n",
       "      <th>3</th>\n",
       "      <td>372</td>\n",
       "      <td>119</td>\n",
       "    </tr>\n",
       "  </tbody>\n",
       "</table>\n",
       "</div>"
      ],
      "text/plain": [
       "   Not Survival  Survival\n",
       "1            80       134\n",
       "2            97        87\n",
       "3           372       119"
      ]
     },
     "execution_count": 88,
     "metadata": {},
     "output_type": "execute_result"
    },
    {
     "data": {
      "image/png": "[encoded data removed]",
      "text/plain": [
       "<matplotlib.figure.Figure at 0xaf09b00>"
      ]
     },
     "metadata": {},
     "output_type": "display_data"
    }
   ],
   "source": [
    "#survival and Pclss\n",
    "grouped_data_by_pclass = titanic_raw_data_without_emb.groupby([\"Survived\",\"Pclass\"])\n",
    "#generate data frame\n",
    "grouped_df_by_pclass = pd.DataFrame({\"Survival\":[grouped_data_by_pclass.get_group((1,1)).count()[\"Survived\"],\n",
    "                                                grouped_data_by_pclass.get_group((1,2)).count()[\"Survived\"],\n",
    "                                                grouped_data_by_pclass.get_group((1,3)).count()[\"Survived\"]],\n",
    "                                    \"Not Survival\":[grouped_data_by_pclass.get_group((0,1)).count()[\"Survived\"],\n",
    "                                                   grouped_data_by_pclass.get_group((0,2)).count()[\"Survived\"],\n",
    "                                                   grouped_data_by_pclass.get_group((0,3)).count()[\"Survived\"]]},\n",
    "                                   index = [\"1\",\"2\",\"3\"])\n",
    "#plot the dataframe, relationship between survival and pclass\n",
    "grouped_df_by_pclass.plot.bar(fontsize = 18)\n",
    "fig = matplotlib.pyplot.gcf()\n",
    "fig.set_size_inches(15, 10)\n",
    "plt.xlabel('Pclass', fontsize = 18)\n",
    "plt.ylabel('Frequency',fontsize = 18)\n",
    "plt.title('Passenger number grouped by Pclass', fontsize = 20)\n",
    "plt.legend(loc=0, numpoints=1)\n",
    "leg = plt.gca().get_legend()\n",
    "ltext  = leg.get_texts()\n",
    "plt.setp(ltext, fontsize='xx-large') \n",
    "fig.savefig('Passenger number grouped by Pclass.png', dpi=100)\n",
    "grouped_df_by_pclass"
   ]
  },
  {
   "cell_type": "code",
   "execution_count": 89,
   "metadata": {
    "collapsed": false
   },
   "outputs": [
    {
     "name": "stdout",
     "output_type": "stream",
     "text": [
      "Pclass      1   2    3\n",
      "Survived              \n",
      "0          80  97  372\n",
      "1         136  87  119 \n",
      "\n",
      "Results of Chi-Squared test on Pclass to Survival.\n",
      "Does Pclass have a significant effect on Survival?\n",
      "Chi-Squared Score = 102.888988757\n",
      "Pvalue = 4.5492517113e-23\n",
      "\n",
      "\n"
     ]
    }
   ],
   "source": [
    "# Chi-Squared Tests\n",
    "# Pclass to Survivability\n",
    "import scipy.stats\n",
    "pivot = pd.pivot_table(data = titanic_raw_data[['Survived', 'Pclass']], index = 'Survived', columns = ['Pclass'], aggfunc = len)\n",
    "pivot\n",
    "print pivot,\"\\n\"\n",
    "chi2, p_value, dof, expected = scipy.stats.chi2_contingency(pivot)\n",
    "print \"Results of Chi-Squared test on Pclass to Survival.\"\n",
    "print \"Does Pclass have a significant effect on Survival?\"\n",
    "print \"Chi-Squared Score = \" + str(chi2)\n",
    "print \"Pvalue = \" + str(p_value)\n",
    "print \"\\n\""
   ]
  },
  {
   "cell_type": "code",
   "execution_count": 90,
   "metadata": {
    "collapsed": false
   },
   "outputs": [
    {
     "data": {
      "text/html": [
       "<div>\n",
       "<table border=\"1\" class=\"dataframe\">\n",
       "  <thead>\n",
       "    <tr style=\"text-align: right;\">\n",
       "      <th></th>\n",
       "      <th>PassengerId</th>\n",
       "      <th>Survived</th>\n",
       "      <th>Pclass</th>\n",
       "      <th>Age</th>\n",
       "      <th>SibSp</th>\n",
       "      <th>Embarked</th>\n",
       "      <th>Gender</th>\n",
       "    </tr>\n",
       "    <tr>\n",
       "      <th>Parch</th>\n",
       "      <th></th>\n",
       "      <th></th>\n",
       "      <th></th>\n",
       "      <th></th>\n",
       "      <th></th>\n",
       "      <th></th>\n",
       "      <th></th>\n",
       "    </tr>\n",
       "  </thead>\n",
       "  <tbody>\n",
       "    <tr>\n",
       "      <th>0</th>\n",
       "      <td>676</td>\n",
       "      <td>676</td>\n",
       "      <td>676</td>\n",
       "      <td>519</td>\n",
       "      <td>676</td>\n",
       "      <td>676</td>\n",
       "      <td>676</td>\n",
       "    </tr>\n",
       "    <tr>\n",
       "      <th>1</th>\n",
       "      <td>118</td>\n",
       "      <td>118</td>\n",
       "      <td>118</td>\n",
       "      <td>110</td>\n",
       "      <td>118</td>\n",
       "      <td>118</td>\n",
       "      <td>118</td>\n",
       "    </tr>\n",
       "    <tr>\n",
       "      <th>2</th>\n",
       "      <td>80</td>\n",
       "      <td>80</td>\n",
       "      <td>80</td>\n",
       "      <td>68</td>\n",
       "      <td>80</td>\n",
       "      <td>80</td>\n",
       "      <td>80</td>\n",
       "    </tr>\n",
       "    <tr>\n",
       "      <th>3</th>\n",
       "      <td>5</td>\n",
       "      <td>5</td>\n",
       "      <td>5</td>\n",
       "      <td>5</td>\n",
       "      <td>5</td>\n",
       "      <td>5</td>\n",
       "      <td>5</td>\n",
       "    </tr>\n",
       "    <tr>\n",
       "      <th>4</th>\n",
       "      <td>4</td>\n",
       "      <td>4</td>\n",
       "      <td>4</td>\n",
       "      <td>4</td>\n",
       "      <td>4</td>\n",
       "      <td>4</td>\n",
       "      <td>4</td>\n",
       "    </tr>\n",
       "    <tr>\n",
       "      <th>5</th>\n",
       "      <td>5</td>\n",
       "      <td>5</td>\n",
       "      <td>5</td>\n",
       "      <td>5</td>\n",
       "      <td>5</td>\n",
       "      <td>5</td>\n",
       "      <td>5</td>\n",
       "    </tr>\n",
       "    <tr>\n",
       "      <th>6</th>\n",
       "      <td>1</td>\n",
       "      <td>1</td>\n",
       "      <td>1</td>\n",
       "      <td>1</td>\n",
       "      <td>1</td>\n",
       "      <td>1</td>\n",
       "      <td>1</td>\n",
       "    </tr>\n",
       "  </tbody>\n",
       "</table>\n",
       "</div>"
      ],
      "text/plain": [
       "       PassengerId  Survived  Pclass  Age  SibSp  Embarked  Gender\n",
       "Parch                                                             \n",
       "0              676       676     676  519    676       676     676\n",
       "1              118       118     118  110    118       118     118\n",
       "2               80        80      80   68     80        80      80\n",
       "3                5         5       5    5      5         5       5\n",
       "4                4         4       4    4      4         4       4\n",
       "5                5         5       5    5      5         5       5\n",
       "6                1         1       1    1      1         1       1"
      ]
     },
     "execution_count": 90,
     "metadata": {},
     "output_type": "execute_result"
    }
   ],
   "source": [
    "#survival and parch. See the num of people with parents and children on board.\n",
    "titanic_raw_data_without_emb[titanic_raw_data_without_emb[\"Parch\"] != 0].count()\n",
    "titanic_raw_data_without_emb.groupby(\"Parch\").count()"
   ]
  },
  {
   "cell_type": "code",
   "execution_count": 91,
   "metadata": {
    "collapsed": false
   },
   "outputs": [
    {
     "name": "stderr",
     "output_type": "stream",
     "text": [
      "C:\\data analyst\\Anaconda2\\lib\\site-packages\\ipykernel\\__main__.py:12: SettingWithCopyWarning: \n",
      "A value is trying to be set on a copy of a slice from a DataFrame.\n",
      "Try using .loc[row_indexer,col_indexer] = value instead\n",
      "\n",
      "See the caveats in the documentation: http://pandas.pydata.org/pandas-docs/stable/indexing.html#indexing-view-versus-copy\n"
     ]
    },
    {
     "data": {
      "text/html": [
       "<div>\n",
       "<table border=\"1\" class=\"dataframe\">\n",
       "  <thead>\n",
       "    <tr style=\"text-align: right;\">\n",
       "      <th></th>\n",
       "      <th>Not Survival</th>\n",
       "      <th>Survival</th>\n",
       "    </tr>\n",
       "  </thead>\n",
       "  <tbody>\n",
       "    <tr>\n",
       "      <th>0</th>\n",
       "      <td>445</td>\n",
       "      <td>231</td>\n",
       "    </tr>\n",
       "    <tr>\n",
       "      <th>1</th>\n",
       "      <td>104</td>\n",
       "      <td>109</td>\n",
       "    </tr>\n",
       "  </tbody>\n",
       "</table>\n",
       "</div>"
      ],
      "text/plain": [
       "   Not Survival  Survival\n",
       "0           445       231\n",
       "1           104       109"
      ]
     },
     "execution_count": 91,
     "metadata": {},
     "output_type": "execute_result"
    },
    {
     "data": {
      "image/png": "[encoded data removed]",
      "text/plain": [
       "<matplotlib.figure.Figure at 0xba6e1d0>"
      ]
     },
     "metadata": {},
     "output_type": "display_data"
    }
   ],
   "source": [
    "#survival and parch\n",
    "#flag samples with parents and children on board using 1 and samples without parents and children using 0\n",
    "flag_list = []\n",
    "parch_list = titanic_raw_data_without_emb[\"Parch\"]\n",
    "i = 0\n",
    "while i < len(parch_list):\n",
    "    if parch_list[i] == 0:\n",
    "        flag_list.append(0)\n",
    "    else:\n",
    "        flag_list.append(1)\n",
    "    i += 1\n",
    "titanic_raw_data_without_emb[\"Parch Flag\"] = flag_list\n",
    "grouped_data_by_parch = titanic_raw_data_without_emb.groupby([\"Survived\",\"Parch Flag\"])\n",
    "#generate data frame\n",
    "grouped_df_by_pclass = pd.DataFrame({\"Survival\":[grouped_data_by_parch.get_group((1,0)).count()[\"Survived\"],\n",
    "                                                grouped_data_by_parch.get_group((1,1)).count()[\"Survived\"]],\n",
    "                                    \"Not Survival\":[grouped_data_by_parch.get_group((0,0)).count()[\"Survived\"],\n",
    "                                                   grouped_data_by_parch.get_group((0,1)).count()[\"Survived\"]]},\n",
    "                                   index = [\"0\",\"1\"])\n",
    "#plot the dataframe, relationship between survival and parch\n",
    "grouped_df_by_pclass.plot.bar(fontsize = 18)\n",
    "fig = matplotlib.pyplot.gcf()\n",
    "fig.set_size_inches(15, 10)\n",
    "plt.xlabel('Parch', fontsize = 18)\n",
    "plt.ylabel('Frequency',fontsize = 18)\n",
    "plt.title('Passenger number grouped by parch', fontsize = 20)\n",
    "plt.legend(loc=0, numpoints=1)\n",
    "leg = plt.gca().get_legend()\n",
    "ltext  = leg.get_texts()\n",
    "plt.setp(ltext, fontsize='xx-large') \n",
    "fig.savefig('Passenger number grouped by parch.png', dpi=100)\n",
    "grouped_df_by_pclass"
   ]
  },
  {
   "cell_type": "code",
   "execution_count": 92,
   "metadata": {
    "collapsed": false
   },
   "outputs": [
    {
     "name": "stderr",
     "output_type": "stream",
     "text": [
      "C:\\data analyst\\Anaconda2\\lib\\site-packages\\ipykernel\\__main__.py:11: SettingWithCopyWarning: \n",
      "A value is trying to be set on a copy of a slice from a DataFrame.\n",
      "Try using .loc[row_indexer,col_indexer] = value instead\n",
      "\n",
      "See the caveats in the documentation: http://pandas.pydata.org/pandas-docs/stable/indexing.html#indexing-view-versus-copy\n"
     ]
    }
   ],
   "source": [
    "#have age or not\n",
    "flag_list = []\n",
    "parch_list = titanic_raw_data_without_emb[\"Age\"]\n",
    "i = 0\n",
    "while i < len(parch_list):\n",
    "    if parch_list[i] != parch_list[i]:\n",
    "        flag_list.append(0)\n",
    "    else:\n",
    "        flag_list.append(1)\n",
    "    i += 1\n",
    "titanic_raw_data_without_emb[\"Age Flag\"] = flag_list"
   ]
  },
  {
   "cell_type": "code",
   "execution_count": 93,
   "metadata": {
    "collapsed": false
   },
   "outputs": [
    {
     "name": "stdout",
     "output_type": "stream",
     "text": [
      "Age Flag    0    1\n",
      "Pclass            \n",
      "1          30  184\n",
      "2          11  173\n",
      "3         136  355 \n",
      "\n",
      "Results of Chi-Squared test on Age Flag to Pclass.\n",
      "Does Age Flag have a significant effect on Pclass?\n",
      "Chi-Squared Score = 45.7330447133\n",
      "Pvalue = 1.1727232089e-10\n",
      "\n",
      "\n"
     ]
    }
   ],
   "source": [
    "# Chi-Squared Tests\n",
    "# Age Flag to Pclass\n",
    "import scipy.stats\n",
    "pivot = pd.pivot_table(data = titanic_raw_data_without_emb[['Age Flag', 'Pclass']], index = 'Pclass', columns = ['Age Flag'], aggfunc = len)\n",
    "pivot\n",
    "print pivot,\"\\n\"\n",
    "chi2, p_value, dof, expected = scipy.stats.chi2_contingency(pivot)\n",
    "print \"Results of Chi-Squared test on Age Flag to Pclass.\"\n",
    "print \"Does Age Flag have a significant effect on Pclass?\"\n",
    "print \"Chi-Squared Score = \" + str(chi2)\n",
    "print \"Pvalue = \" + str(p_value)\n",
    "print \"\\n\""
   ]
  },
  {
   "cell_type": "code",
   "execution_count": 94,
   "metadata": {
    "collapsed": false
   },
   "outputs": [
    {
     "name": "stderr",
     "output_type": "stream",
     "text": [
      "C:\\data analyst\\Anaconda2\\lib\\site-packages\\ipykernel\\__main__.py:11: SettingWithCopyWarning: \n",
      "A value is trying to be set on a copy of a slice from a DataFrame.\n",
      "Try using .loc[row_indexer,col_indexer] = value instead\n",
      "\n",
      "See the caveats in the documentation: http://pandas.pydata.org/pandas-docs/stable/indexing.html#indexing-view-versus-copy\n"
     ]
    }
   ],
   "source": [
    "#have sib or not\n",
    "flag_list = []\n",
    "parch_list = titanic_raw_data_without_emb[\"SibSp\"]\n",
    "i = 0\n",
    "while i < len(parch_list):\n",
    "    if parch_list[i] == 0:\n",
    "        flag_list.append(0)\n",
    "    else:\n",
    "        flag_list.append(1)\n",
    "    i += 1\n",
    "titanic_raw_data_without_emb[\"SibSp Flag\"] = flag_list"
   ]
  },
  {
   "cell_type": "code",
   "execution_count": 95,
   "metadata": {
    "collapsed": false
   },
   "outputs": [
    {
     "name": "stdout",
     "output_type": "stream",
     "text": [
      "Age Flag      0    1\n",
      "SibSp Flag          \n",
      "0           137  469\n",
      "1            40  243 \n",
      "\n",
      "Results of Chi-Squared test on Age Flag to SibSp Flag.\n",
      "Does Age Flag have a significant effect on SibSp?\n",
      "Chi-Squared Score = 8.16198214693\n",
      "Pvalue = 0.00427775937203\n",
      "\n",
      "\n"
     ]
    }
   ],
   "source": [
    "# Chi-Squared Tests\n",
    "# Age Flag to SibSp Flag\n",
    "import scipy.stats\n",
    "pivot = pd.pivot_table(data = titanic_raw_data_without_emb[['Age Flag', 'SibSp Flag']], index = 'SibSp Flag', columns = ['Age Flag'], aggfunc = len)\n",
    "pivot\n",
    "print pivot,\"\\n\"\n",
    "chi2, p_value, dof, expected = scipy.stats.chi2_contingency(pivot)\n",
    "print \"Results of Chi-Squared test on Age Flag to SibSp Flag.\"\n",
    "print \"Does Age Flag have a significant effect on SibSp?\"\n",
    "print \"Chi-Squared Score = \" + str(chi2)\n",
    "print \"Pvalue = \" + str(p_value)\n",
    "print \"\\n\""
   ]
  },
  {
   "cell_type": "code",
   "execution_count": 97,
   "metadata": {
    "collapsed": false
   },
   "outputs": [
    {
     "name": "stdout",
     "output_type": "stream",
     "text": [
      "Age Flag      0    1\n",
      "Parch Flag          \n",
      "0           157  519\n",
      "1            20  193 \n",
      "\n",
      "Results of Chi-Squared test on Age Flag to Parch Flag.\n",
      "Does Age Flag have a significant effect on Parch Flag?\n",
      "Chi-Squared Score = 18.5842069061\n",
      "Pvalue = 1.62561739747e-05\n",
      "\n",
      "\n"
     ]
    }
   ],
   "source": [
    "# Chi-Squared Tests\n",
    "# Age Flag to Parch Flag\n",
    "import scipy.stats\n",
    "pivot = pd.pivot_table(data = titanic_raw_data_without_emb[['Age Flag', 'Parch Flag']], index = 'Parch Flag', columns = ['Age Flag'], aggfunc = len)\n",
    "pivot\n",
    "print pivot,\"\\n\"\n",
    "chi2, p_value, dof, expected = scipy.stats.chi2_contingency(pivot)\n",
    "print \"Results of Chi-Squared test on Age Flag to Parch Flag.\"\n",
    "print \"Does Age Flag have a significant effect on Parch Flag?\"\n",
    "print \"Chi-Squared Score = \" + str(chi2)\n",
    "print \"Pvalue = \" + str(p_value)\n",
    "print \"\\n\""
   ]
  },
  {
   "cell_type": "code",
   "execution_count": 98,
   "metadata": {
    "collapsed": false
   },
   "outputs": [
    {
     "name": "stdout",
     "output_type": "stream",
     "text": [
      "Age Flag    0    1\n",
      "Gender            \n",
      "0          53  259\n",
      "1         124  453 \n",
      "\n",
      "Results of Chi-Squared test on Age Flag to Gender.\n",
      "Does Age Flag have a significant effect on Gender?\n",
      "Chi-Squared Score = 2.30069510697\n",
      "Pvalue = 0.129316115859\n",
      "\n",
      "\n"
     ]
    }
   ],
   "source": [
    "# Chi-Squared Tests\n",
    "# Age Flag to Gender\n",
    "import scipy.stats\n",
    "pivot = pd.pivot_table(data = titanic_raw_data_without_emb[['Age Flag', 'Gender']], index = 'Gender', columns = ['Age Flag'], aggfunc = len)\n",
    "pivot\n",
    "print pivot,\"\\n\"\n",
    "chi2, p_value, dof, expected = scipy.stats.chi2_contingency(pivot)\n",
    "print \"Results of Chi-Squared test on Age Flag to Gender.\"\n",
    "print \"Does Age Flag have a significant effect on Gender?\"\n",
    "print \"Chi-Squared Score = \" + str(chi2)\n",
    "print \"Pvalue = \" + str(p_value)\n",
    "print \"\\n\""
   ]
  },
  {
   "cell_type": "code",
   "execution_count": 99,
   "metadata": {
    "collapsed": false
   },
   "outputs": [
    {
     "data": {
      "image/png": "[encoded data removed]",
      "text/plain": [
       "<matplotlib.figure.Figure at 0xb833438>"
      ]
     },
     "metadata": {},
     "output_type": "display_data"
    }
   ],
   "source": [
    "#explore relationship between survival and combination of age and pclass, assuming that with-age group has the same trend \n",
    "#with the withou-age group\n",
    "#delete samples without age, since genders are not different between male and female group.\n",
    "survival1_figure = plt.figure(1)\n",
    "data1 = titanic_raw_data_with_age[[\"Age\",\"Survived\"]]\n",
    "data1_survived = data1[data1[\"Survived\"] == 1][\"Age\"]\n",
    "data1_survived.hist()\n",
    "fig = matplotlib.pyplot.gcf()\n",
    "fig.set_size_inches(15, 10)\n",
    "\n",
    "plt.xlabel('Age interval', fontsize = 18)\n",
    "plt.ylabel('Frequency',fontsize = 18)\n",
    "plt.title('Survived passenger by age interval', fontsize = 20)\n",
    "fig.savefig('Survived passenger by age interval.png', dpi=100)"
   ]
  },
  {
   "cell_type": "code",
   "execution_count": 100,
   "metadata": {
    "collapsed": false
   },
   "outputs": [
    {
     "data": {
      "image/png": "[encoded data removed]",
      "text/plain": [
       "<matplotlib.figure.Figure at 0xc764ba8>"
      ]
     },
     "metadata": {},
     "output_type": "display_data"
    }
   ],
   "source": [
    "data1_not_survived = data1[data1[\"Survived\"] == 0][\"Age\"]\n",
    "data1_not_survived.hist()\n",
    "fig = matplotlib.pyplot.gcf()\n",
    "fig.set_size_inches(15, 10)\n",
    "plt.xlabel('Age interval', fontsize = 18)\n",
    "plt.ylabel('Frequency',fontsize = 18)\n",
    "plt.title('Not survived passenger by age interval', fontsize = 20)\n",
    "fig.savefig('Not survived passenger by age interval.png', dpi=100)"
   ]
  },
  {
   "cell_type": "code",
   "execution_count": 101,
   "metadata": {
    "collapsed": false
   },
   "outputs": [
    {
     "name": "stderr",
     "output_type": "stream",
     "text": [
      "C:\\data analyst\\Anaconda2\\lib\\site-packages\\ipykernel\\__main__.py:26: SettingWithCopyWarning: \n",
      "A value is trying to be set on a copy of a slice from a DataFrame.\n",
      "Try using .loc[row_indexer,col_indexer] = value instead\n",
      "\n",
      "See the caveats in the documentation: http://pandas.pydata.org/pandas-docs/stable/indexing.html#indexing-view-versus-copy\n"
     ]
    }
   ],
   "source": [
    "#relationship between survival and age interval\n",
    "#grouped people into age interval\n",
    "i = 0\n",
    "age_interval = []\n",
    "titanic_raw_data_with_age.reset_index(inplace = True, drop = True)\n",
    "age_list = titanic_raw_data_with_age[\"Age\"]\n",
    "while i < len(titanic_raw_data_with_age):\n",
    "    if age_list[i] < 10:\n",
    "        age_interval.append(\"0-10\")\n",
    "    elif age_list[i] < 20 and age_list[i] >= 10:\n",
    "        age_interval.append(\"10-20\")\n",
    "    elif age_list[i] < 30 and age_list[i] >= 20:\n",
    "        age_interval.append(\"20-30\")\n",
    "    elif age_list[i] < 40 and age_list[i] >= 30:\n",
    "        age_interval.append(\"30-40\")\n",
    "    elif age_list[i] < 50 and age_list[i] >= 40:\n",
    "        age_interval.append(\"40-50\")\n",
    "    elif age_list[i] < 60 and age_list[i] >= 50:\n",
    "        age_interval.append(\"50-60\")\n",
    "    elif age_list[i] < 70 and age_list[i] >= 60:\n",
    "        age_interval.append(\"60-70\")\n",
    "    else:\n",
    "        age_interval.append(\"70-80\")\n",
    "    i = i+1\n",
    "data_with_age_interval = titanic_raw_data_with_age\n",
    "data_with_age_interval[\"Age Interval\"] = age_interval"
   ]
  },
  {
   "cell_type": "code",
   "execution_count": 102,
   "metadata": {
    "collapsed": false
   },
   "outputs": [],
   "source": [
    "#get age interval and survived columns\n",
    "data_with_age_interval = data_with_age_interval.loc[:,[\"Survived\",\"Age Interval\"]]"
   ]
  },
  {
   "cell_type": "code",
   "execution_count": 103,
   "metadata": {
    "collapsed": false
   },
   "outputs": [
    {
     "data": {
      "text/html": [
       "<div>\n",
       "<table border=\"1\" class=\"dataframe\">\n",
       "  <thead>\n",
       "    <tr style=\"text-align: right;\">\n",
       "      <th></th>\n",
       "      <th>Survived</th>\n",
       "    </tr>\n",
       "    <tr>\n",
       "      <th>Age Interval</th>\n",
       "      <th></th>\n",
       "    </tr>\n",
       "  </thead>\n",
       "  <tbody>\n",
       "    <tr>\n",
       "      <th>0-10</th>\n",
       "      <td>38</td>\n",
       "    </tr>\n",
       "    <tr>\n",
       "      <th>10-20</th>\n",
       "      <td>41</td>\n",
       "    </tr>\n",
       "    <tr>\n",
       "      <th>20-30</th>\n",
       "      <td>77</td>\n",
       "    </tr>\n",
       "    <tr>\n",
       "      <th>30-40</th>\n",
       "      <td>73</td>\n",
       "    </tr>\n",
       "    <tr>\n",
       "      <th>40-50</th>\n",
       "      <td>34</td>\n",
       "    </tr>\n",
       "    <tr>\n",
       "      <th>50-60</th>\n",
       "      <td>20</td>\n",
       "    </tr>\n",
       "    <tr>\n",
       "      <th>60-70</th>\n",
       "      <td>6</td>\n",
       "    </tr>\n",
       "    <tr>\n",
       "      <th>70-80</th>\n",
       "      <td>1</td>\n",
       "    </tr>\n",
       "  </tbody>\n",
       "</table>\n",
       "</div>"
      ],
      "text/plain": [
       "              Survived\n",
       "Age Interval          \n",
       "0-10                38\n",
       "10-20               41\n",
       "20-30               77\n",
       "30-40               73\n",
       "40-50               34\n",
       "50-60               20\n",
       "60-70                6\n",
       "70-80                1"
      ]
     },
     "execution_count": 103,
     "metadata": {},
     "output_type": "execute_result"
    }
   ],
   "source": [
    "#count number of people survived at each age interval\n",
    "data_with_age_interval_survival = data_with_age_interval[data_with_age_interval[\"Survived\"] == 1]\n",
    "data_with_age_interval_not_survival = data_with_age_interval[data_with_age_interval[\"Survived\"] == 0]\n",
    "count_survival_age_interval = data_with_age_interval_survival.groupby(\"Age Interval\").count()\n",
    "count_survival_age_interval"
   ]
  },
  {
   "cell_type": "code",
   "execution_count": 104,
   "metadata": {
    "collapsed": false
   },
   "outputs": [
    {
     "data": {
      "text/html": [
       "<div>\n",
       "<table border=\"1\" class=\"dataframe\">\n",
       "  <thead>\n",
       "    <tr style=\"text-align: right;\">\n",
       "      <th></th>\n",
       "      <th>Survived</th>\n",
       "    </tr>\n",
       "    <tr>\n",
       "      <th>Age Interval</th>\n",
       "      <th></th>\n",
       "    </tr>\n",
       "  </thead>\n",
       "  <tbody>\n",
       "    <tr>\n",
       "      <th>0-10</th>\n",
       "      <td>24</td>\n",
       "    </tr>\n",
       "    <tr>\n",
       "      <th>10-20</th>\n",
       "      <td>61</td>\n",
       "    </tr>\n",
       "    <tr>\n",
       "      <th>20-30</th>\n",
       "      <td>143</td>\n",
       "    </tr>\n",
       "    <tr>\n",
       "      <th>30-40</th>\n",
       "      <td>94</td>\n",
       "    </tr>\n",
       "    <tr>\n",
       "      <th>40-50</th>\n",
       "      <td>55</td>\n",
       "    </tr>\n",
       "    <tr>\n",
       "      <th>50-60</th>\n",
       "      <td>28</td>\n",
       "    </tr>\n",
       "    <tr>\n",
       "      <th>60-70</th>\n",
       "      <td>13</td>\n",
       "    </tr>\n",
       "    <tr>\n",
       "      <th>70-80</th>\n",
       "      <td>6</td>\n",
       "    </tr>\n",
       "  </tbody>\n",
       "</table>\n",
       "</div>"
      ],
      "text/plain": [
       "              Survived\n",
       "Age Interval          \n",
       "0-10                24\n",
       "10-20               61\n",
       "20-30              143\n",
       "30-40               94\n",
       "40-50               55\n",
       "50-60               28\n",
       "60-70               13\n",
       "70-80                6"
      ]
     },
     "execution_count": 104,
     "metadata": {},
     "output_type": "execute_result"
    }
   ],
   "source": [
    "#count number of people not survived at each age interval\n",
    "count_not_survival_age_interval = data_with_age_interval_not_survival.groupby(\"Age Interval\").count()\n",
    "count_not_survival_age_interval"
   ]
  },
  {
   "cell_type": "code",
   "execution_count": 105,
   "metadata": {
    "collapsed": false
   },
   "outputs": [
    {
     "data": {
      "text/html": [
       "<div>\n",
       "<table border=\"1\" class=\"dataframe\">\n",
       "  <thead>\n",
       "    <tr style=\"text-align: right;\">\n",
       "      <th></th>\n",
       "      <th>Survived</th>\n",
       "      <th>Not Survived</th>\n",
       "    </tr>\n",
       "    <tr>\n",
       "      <th>Age Interval</th>\n",
       "      <th></th>\n",
       "      <th></th>\n",
       "    </tr>\n",
       "  </thead>\n",
       "  <tbody>\n",
       "    <tr>\n",
       "      <th>0-10</th>\n",
       "      <td>38</td>\n",
       "      <td>24</td>\n",
       "    </tr>\n",
       "    <tr>\n",
       "      <th>10-20</th>\n",
       "      <td>41</td>\n",
       "      <td>61</td>\n",
       "    </tr>\n",
       "    <tr>\n",
       "      <th>20-30</th>\n",
       "      <td>77</td>\n",
       "      <td>143</td>\n",
       "    </tr>\n",
       "    <tr>\n",
       "      <th>30-40</th>\n",
       "      <td>73</td>\n",
       "      <td>94</td>\n",
       "    </tr>\n",
       "    <tr>\n",
       "      <th>40-50</th>\n",
       "      <td>34</td>\n",
       "      <td>55</td>\n",
       "    </tr>\n",
       "    <tr>\n",
       "      <th>50-60</th>\n",
       "      <td>20</td>\n",
       "      <td>28</td>\n",
       "    </tr>\n",
       "    <tr>\n",
       "      <th>60-70</th>\n",
       "      <td>6</td>\n",
       "      <td>13</td>\n",
       "    </tr>\n",
       "    <tr>\n",
       "      <th>70-80</th>\n",
       "      <td>1</td>\n",
       "      <td>6</td>\n",
       "    </tr>\n",
       "  </tbody>\n",
       "</table>\n",
       "</div>"
      ],
      "text/plain": [
       "              Survived  Not Survived\n",
       "Age Interval                        \n",
       "0-10                38            24\n",
       "10-20               41            61\n",
       "20-30               77           143\n",
       "30-40               73            94\n",
       "40-50               34            55\n",
       "50-60               20            28\n",
       "60-70                6            13\n",
       "70-80                1             6"
      ]
     },
     "execution_count": 105,
     "metadata": {},
     "output_type": "execute_result"
    }
   ],
   "source": [
    "#merge the two data frames\n",
    "survival_and_age_interval = pd.concat([count_survival_age_interval, count_not_survival_age_interval], axis=1)\n",
    "survival_and_age_interval.columns = [\"Survived\",\"Not Survived\"]\n",
    "survival_and_age_interval"
   ]
  },
  {
   "cell_type": "code",
   "execution_count": 106,
   "metadata": {
    "collapsed": false
   },
   "outputs": [
    {
     "data": {
      "image/png": "[encoded data removed]",
      "text/plain": [
       "<matplotlib.figure.Figure at 0xb2bdf60>"
      ]
     },
     "metadata": {},
     "output_type": "display_data"
    }
   ],
   "source": [
    "#count survival rate for each age interval\n",
    "#sum survived and unsurvived people at each age interval\n",
    "total_list = survival_and_age_interval[\"Survived\"]+survival_and_age_interval[\"Not Survived\"]\n",
    "survival_and_age_interval[\"Total\"] = total_list\n",
    "#count survival rate\n",
    "survival_rate_age_interval = survival_and_age_interval[\"Survived\"]/survival_and_age_interval[\"Total\"]\n",
    "#plot survival rate with respect to age interval\n",
    "survival_rate_age_interval.plot(fontsize = 18)\n",
    "fig = matplotlib.pyplot.gcf()\n",
    "fig.set_size_inches(15, 10)\n",
    "plt.xlabel('Age interval', fontsize = 18)\n",
    "plt.ylabel('Survival rate',fontsize = 18)\n",
    "plt.title('Relationship between survival rate and age', fontsize = 20)\n",
    "fig.savefig('Relationship between survival rate and age', dpi=100)"
   ]
  },
  {
   "cell_type": "code",
   "execution_count": 107,
   "metadata": {
    "collapsed": false
   },
   "outputs": [
    {
     "data": {
      "image/png": "[encoded data removed]",
      "text/plain": [
       "<matplotlib.figure.Figure at 0xb339160>"
      ]
     },
     "metadata": {},
     "output_type": "display_data"
    }
   ],
   "source": [
    "#explore relationship between survival and combination of age and Pclass\n",
    "data_with_age_pclass = titanic_raw_data_with_age.loc[:,[\"Age\",\"Pclass\",\"Survived\"]]\n",
    "data_with_age_pclass_survive = data_with_age_pclass[data_with_age_pclass[\"Survived\"] == 1]\n",
    "data_with_age_pclass_not_survive = data_with_age_pclass[data_with_age_pclass[\"Survived\"] == 0]\n",
    "ax = data_with_age_pclass_survive.plot.scatter(x = \"Age\", y = \"Pclass\", color = \"red\", label = \"Survived\")\n",
    "data_with_age_pclass_not_survive.plot.scatter(x = \"Age\",y = \"Pclass\", color = \"Green\", label = \"Not Survived\", ax = ax,\n",
    "                                             s = data_with_age_pclass_survive[\"Survived\"]*20)\n",
    "fig = matplotlib.pyplot.gcf()\n",
    "fig.set_size_inches(15, 10)\n",
    "plt.xlabel('Age', fontsize = 18)\n",
    "plt.ylabel('Pclass',fontsize = 18)\n",
    "plt.title('Survival and combination of age and pclass', fontsize = 15)\n",
    "plt.legend(loc=0, numpoints=1)\n",
    "leg = plt.gca().get_legend()\n",
    "ltext  = leg.get_texts()\n",
    "plt.setp(ltext, fontsize='xx-large') \n",
    "fig.savefig('Survival and combination of age and pclass.png', dpi=100)"
   ]
  },
  {
   "cell_type": "code",
   "execution_count": 109,
   "metadata": {
    "collapsed": false
   },
   "outputs": [
    {
     "data": {
      "text/html": [
       "<div>\n",
       "<table border=\"1\" class=\"dataframe\">\n",
       "  <thead>\n",
       "    <tr style=\"text-align: right;\">\n",
       "      <th></th>\n",
       "      <th>PassengerId</th>\n",
       "      <th>Survived</th>\n",
       "      <th>Pclass</th>\n",
       "      <th>Age</th>\n",
       "      <th>SibSp</th>\n",
       "      <th>Parch</th>\n",
       "      <th>Embarked</th>\n",
       "      <th>Gender</th>\n",
       "      <th>Parch Flag</th>\n",
       "      <th>Age Flag</th>\n",
       "      <th>SibSp Flag</th>\n",
       "    </tr>\n",
       "  </thead>\n",
       "  <tbody>\n",
       "    <tr>\n",
       "      <th>0</th>\n",
       "      <td>1</td>\n",
       "      <td>0</td>\n",
       "      <td>3</td>\n",
       "      <td>22.0</td>\n",
       "      <td>1</td>\n",
       "      <td>0</td>\n",
       "      <td>S</td>\n",
       "      <td>1</td>\n",
       "      <td>0</td>\n",
       "      <td>1</td>\n",
       "      <td>1</td>\n",
       "    </tr>\n",
       "    <tr>\n",
       "      <th>1</th>\n",
       "      <td>2</td>\n",
       "      <td>1</td>\n",
       "      <td>1</td>\n",
       "      <td>38.0</td>\n",
       "      <td>1</td>\n",
       "      <td>0</td>\n",
       "      <td>C</td>\n",
       "      <td>0</td>\n",
       "      <td>0</td>\n",
       "      <td>1</td>\n",
       "      <td>1</td>\n",
       "    </tr>\n",
       "    <tr>\n",
       "      <th>2</th>\n",
       "      <td>3</td>\n",
       "      <td>1</td>\n",
       "      <td>3</td>\n",
       "      <td>26.0</td>\n",
       "      <td>0</td>\n",
       "      <td>0</td>\n",
       "      <td>S</td>\n",
       "      <td>0</td>\n",
       "      <td>0</td>\n",
       "      <td>1</td>\n",
       "      <td>0</td>\n",
       "    </tr>\n",
       "    <tr>\n",
       "      <th>3</th>\n",
       "      <td>4</td>\n",
       "      <td>1</td>\n",
       "      <td>1</td>\n",
       "      <td>35.0</td>\n",
       "      <td>1</td>\n",
       "      <td>0</td>\n",
       "      <td>S</td>\n",
       "      <td>0</td>\n",
       "      <td>0</td>\n",
       "      <td>1</td>\n",
       "      <td>1</td>\n",
       "    </tr>\n",
       "    <tr>\n",
       "      <th>4</th>\n",
       "      <td>5</td>\n",
       "      <td>0</td>\n",
       "      <td>3</td>\n",
       "      <td>35.0</td>\n",
       "      <td>0</td>\n",
       "      <td>0</td>\n",
       "      <td>S</td>\n",
       "      <td>1</td>\n",
       "      <td>0</td>\n",
       "      <td>1</td>\n",
       "      <td>0</td>\n",
       "    </tr>\n",
       "  </tbody>\n",
       "</table>\n",
       "</div>"
      ],
      "text/plain": [
       "   PassengerId  Survived  Pclass   Age  SibSp  Parch Embarked  Gender  \\\n",
       "0            1         0       3  22.0      1      0        S       1   \n",
       "1            2         1       1  38.0      1      0        C       0   \n",
       "2            3         1       3  26.0      0      0        S       0   \n",
       "3            4         1       1  35.0      1      0        S       0   \n",
       "4            5         0       3  35.0      0      0        S       1   \n",
       "\n",
       "   Parch Flag  Age Flag  SibSp Flag  \n",
       "0           0         1           1  \n",
       "1           0         1           1  \n",
       "2           0         1           0  \n",
       "3           0         1           1  \n",
       "4           0         1           0  "
      ]
     },
     "execution_count": 109,
     "metadata": {},
     "output_type": "execute_result"
    }
   ],
   "source": [
    "titanic_raw_data_without_emb.head()"
   ]
  },
  {
   "cell_type": "code",
   "execution_count": null,
   "metadata": {
    "collapsed": true
   },
   "outputs": [],
   "source": []
  }
 ],
 "metadata": {
  "kernelspec": {
   "display_name": "Python 2",
   "language": "python",
   "name": "python2"
  },
  "language_info": {
   "codemirror_mode": {
    "name": "ipython",
    "version": 2
   },
   "file_extension": ".py",
   "mimetype": "text/x-python",
   "name": "python",
   "nbconvert_exporter": "python",
   "pygments_lexer": "ipython2",
   "version": "2.7.11"
  }
 },
 "nbformat": 4,
 "nbformat_minor": 0
}
